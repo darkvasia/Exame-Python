{
 "cells": [
  {
   "cell_type": "code",
   "execution_count": 2,
   "metadata": {},
   "outputs": [
    {
     "name": "stdout",
     "output_type": "stream",
     "text": [
      "Rental cost for Vasia: 500\n"
     ]
    }
   ],
   "source": [
    "class Car:\n",
    "    def __init__(self, make, model, year, rental_cost_per_day):\n",
    "        self.make = make\n",
    "        self.model = model\n",
    "        self.year = year\n",
    "        self.rental_cost_per_day = rental_cost_per_day\n",
    "        self.reserved = False\n",
    "\n",
    "    def reserve(self):\n",
    "        self.reserved = True\n",
    "\n",
    "    def cancel_reservation(self):\n",
    "        self.reserved = False\n",
    "\n",
    "\n",
    "class Client:\n",
    "    def __init__(self, first_name, last_name):\n",
    "        self.first_name = first_name\n",
    "        self.last_name = last_name\n",
    "\n",
    "\n",
    "class Rental:\n",
    "    def __init__(self):\n",
    "        self.cars = []\n",
    "        self.clients = []\n",
    "\n",
    "    def add_car(self, car):\n",
    "        self.cars.append(car)\n",
    "\n",
    "    def add_client(self, client):\n",
    "        self.clients.append(client)\n",
    "\n",
    "    def rent_car(self, client, car, number_of_days):\n",
    "        if not car.reserved:\n",
    "            car.reserve()\n",
    "            return number_of_days * car.rental_cost_per_day\n",
    "        else:\n",
    "            return \"Car is already reserved\"\n",
    "\n",
    "    def return_car(self, car):\n",
    "        car.cancel_reservation()\n",
    "\n",
    "\n",
    "rental = Rental()\n",
    "\n",
    "car1 = Car(\"Toyota\", \"Ford\", 2020, 100)\n",
    "car2 = Car(\"lADA\", \"Focus\", 2019, 90)\n",
    "rental.add_car(car1)\n",
    "rental.add_car(car2)\n",
    "\n",
    "client1 = Client(\"Vasia\", \"Fatych\")\n",
    "client2 = Client(\"Yana\", \"Petrenko\")\n",
    "rental.add_client(client1)\n",
    "rental.add_client(client2)\n",
    "\n",
    "\n",
    "cost = rental.rent_car(client1, car1, 5)\n",
    "print(f\"Rental cost for {client1.first_name}: {cost}\")\n",
    "\n",
    "\n",
    "rental.return_car(car1)"
   ]
  }
 ],
 "metadata": {
  "kernelspec": {
   "display_name": "Python 3",
   "language": "python",
   "name": "python3"
  },
  "language_info": {
   "codemirror_mode": {
    "name": "ipython",
    "version": 3
   },
   "file_extension": ".py",
   "mimetype": "text/x-python",
   "name": "python",
   "nbconvert_exporter": "python",
   "pygments_lexer": "ipython3",
   "version": "3.10.13"
  }
 },
 "nbformat": 4,
 "nbformat_minor": 2
}
